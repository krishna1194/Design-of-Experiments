{
 "cells": [
  {
   "cell_type": "markdown",
   "id": "94271f55",
   "metadata": {},
   "source": [
    "# A/B Testing"
   ]
  },
  {
   "cell_type": "markdown",
   "id": "3f7d0799",
   "metadata": {},
   "source": [
    "**Business Case:**\n",
    "\n",
    "The analysts have found that there is a good amount of increasing traffic from return visitors in the United States on a specific product page but the number of chat inquiries from this specific product page is not increasing proportionally to the traffic. The Product Manager thinks of testing the position of the “click to chat” and its effect to drive more conversions i.e more users using the click to chat with a representative.\n",
    "\n",
    "The current baseline conversion rate is 5.05% and the product team would be happy if they see a 1% increase in conversion rate."
   ]
  },
  {
   "cell_type": "markdown",
   "id": "7350ab62",
   "metadata": {},
   "source": [
    "**Problem Understanding:**\n",
    "\n",
    "We are testing a change in the position of the “click to chat” button (to make it more visible and forthcoming) on a product page for all “repeat visitors” in the United States. Our evaluation criterion for this test is the conversion rate = (1 if the user clicks on the button else 0)."
   ]
  },
  {
   "cell_type": "markdown",
   "id": "247f1d19",
   "metadata": {},
   "source": [
    "**Hypothesis:**\n",
    "\n",
    "The null hypothesis: a change in the position of the “click to chat” button has NO effect on the conversion rate.\n",
    "\n",
    "The alternate hypothesis: a change in the position of the “click to chat” button will have an effect on the conversion rate."
   ]
  },
  {
   "cell_type": "code",
   "execution_count": 1,
   "id": "300c5460",
   "metadata": {},
   "outputs": [],
   "source": [
    "# Import the libraries\n",
    "import pandas as pd\n",
    "import numpy as np\n",
    "import math\n",
    "import scipy.stats as stats"
   ]
  },
  {
   "cell_type": "markdown",
   "id": "c2a0a3fc",
   "metadata": {},
   "source": [
    "### Get the data\n",
    "\n",
    "A Note: This is a dummy data"
   ]
  },
  {
   "cell_type": "code",
   "execution_count": 2,
   "id": "c04aaf27",
   "metadata": {},
   "outputs": [],
   "source": [
    "df = pd.read_csv(\"ab_test_dataset.csv\",usecols=['COOKIE_ID','CONVERTED','ENGAGEMENT_SCORE','TREATMENT_OR_CONTROL'])"
   ]
  },
  {
   "cell_type": "code",
   "execution_count": 3,
   "id": "3728e078",
   "metadata": {},
   "outputs": [
    {
     "data": {
      "text/html": [
       "<div>\n",
       "<style scoped>\n",
       "    .dataframe tbody tr th:only-of-type {\n",
       "        vertical-align: middle;\n",
       "    }\n",
       "\n",
       "    .dataframe tbody tr th {\n",
       "        vertical-align: top;\n",
       "    }\n",
       "\n",
       "    .dataframe thead th {\n",
       "        text-align: right;\n",
       "    }\n",
       "</style>\n",
       "<table border=\"1\" class=\"dataframe\">\n",
       "  <thead>\n",
       "    <tr style=\"text-align: right;\">\n",
       "      <th></th>\n",
       "      <th>COOKIE_ID</th>\n",
       "      <th>CONVERTED</th>\n",
       "      <th>ENGAGEMENT_SCORE</th>\n",
       "      <th>TREATMENT_OR_CONTROL</th>\n",
       "    </tr>\n",
       "  </thead>\n",
       "  <tbody>\n",
       "    <tr>\n",
       "      <th>0</th>\n",
       "      <td>t9M8RVgrnNsFt7eSfH8pp7f</td>\n",
       "      <td>0</td>\n",
       "      <td>1.389313</td>\n",
       "      <td>CONTROL</td>\n",
       "    </tr>\n",
       "    <tr>\n",
       "      <th>1</th>\n",
       "      <td>kcNzZvLksRGynu7JWpXOWit</td>\n",
       "      <td>0</td>\n",
       "      <td>1.810723</td>\n",
       "      <td>TREATMENT</td>\n",
       "    </tr>\n",
       "    <tr>\n",
       "      <th>2</th>\n",
       "      <td>ad0ABkl1OzRHf08klFDFHKd</td>\n",
       "      <td>0</td>\n",
       "      <td>2.069344</td>\n",
       "      <td>TREATMENT</td>\n",
       "    </tr>\n",
       "    <tr>\n",
       "      <th>3</th>\n",
       "      <td>oayDMikU0pdXG0CSfom8e4l</td>\n",
       "      <td>0</td>\n",
       "      <td>1.926706</td>\n",
       "      <td>CONTROL</td>\n",
       "    </tr>\n",
       "    <tr>\n",
       "      <th>4</th>\n",
       "      <td>ecYeNU1AQVTaXrQMp25Fb85</td>\n",
       "      <td>0</td>\n",
       "      <td>2.043011</td>\n",
       "      <td>TREATMENT</td>\n",
       "    </tr>\n",
       "  </tbody>\n",
       "</table>\n",
       "</div>"
      ],
      "text/plain": [
       "                 COOKIE_ID  CONVERTED  ENGAGEMENT_SCORE TREATMENT_OR_CONTROL\n",
       "0  t9M8RVgrnNsFt7eSfH8pp7f          0          1.389313              CONTROL\n",
       "1  kcNzZvLksRGynu7JWpXOWit          0          1.810723            TREATMENT\n",
       "2  ad0ABkl1OzRHf08klFDFHKd          0          2.069344            TREATMENT\n",
       "3  oayDMikU0pdXG0CSfom8e4l          0          1.926706              CONTROL\n",
       "4  ecYeNU1AQVTaXrQMp25Fb85          0          2.043011            TREATMENT"
      ]
     },
     "execution_count": 3,
     "metadata": {},
     "output_type": "execute_result"
    }
   ],
   "source": [
    "df.head()"
   ]
  },
  {
   "cell_type": "code",
   "execution_count": 4,
   "id": "165a838c",
   "metadata": {},
   "outputs": [
    {
     "name": "stdout",
     "output_type": "stream",
     "text": [
      "<class 'pandas.core.frame.DataFrame'>\n",
      "RangeIndex: 40245 entries, 0 to 40244\n",
      "Data columns (total 4 columns):\n",
      " #   Column                Non-Null Count  Dtype  \n",
      "---  ------                --------------  -----  \n",
      " 0   COOKIE_ID             40245 non-null  object \n",
      " 1   CONVERTED             40245 non-null  int64  \n",
      " 2   ENGAGEMENT_SCORE      40245 non-null  float64\n",
      " 3   TREATMENT_OR_CONTROL  40245 non-null  object \n",
      "dtypes: float64(1), int64(1), object(2)\n",
      "memory usage: 1.2+ MB\n"
     ]
    }
   ],
   "source": [
    "df.info()"
   ]
  },
  {
   "cell_type": "markdown",
   "id": "1fdb5c77",
   "metadata": {},
   "source": [
    "The column ‘COOKIE_ID’ is the hashed version of a cookie (the unit of randomization for our experiment), the column ‘CONVERTED’ indicates whether the cookie clicked on the “click to chat” button (1) or not(0) and column ‘TREATMENT_OR_CONTROL’ indicates whether the cookie was from control group or treatment group."
   ]
  },
  {
   "cell_type": "code",
   "execution_count": 5,
   "id": "c4ab35cf",
   "metadata": {},
   "outputs": [
    {
     "data": {
      "text/html": [
       "<div>\n",
       "<style scoped>\n",
       "    .dataframe tbody tr th:only-of-type {\n",
       "        vertical-align: middle;\n",
       "    }\n",
       "\n",
       "    .dataframe tbody tr th {\n",
       "        vertical-align: top;\n",
       "    }\n",
       "\n",
       "    .dataframe thead th {\n",
       "        text-align: right;\n",
       "    }\n",
       "</style>\n",
       "<table border=\"1\" class=\"dataframe\">\n",
       "  <thead>\n",
       "    <tr style=\"text-align: right;\">\n",
       "      <th></th>\n",
       "      <th>COOKIE_ID</th>\n",
       "      <th>CONVERTED</th>\n",
       "    </tr>\n",
       "  </thead>\n",
       "  <tbody>\n",
       "    <tr>\n",
       "      <th>0</th>\n",
       "      <td>002CzVgO1LMjZSTEiNhizge</td>\n",
       "      <td>1</td>\n",
       "    </tr>\n",
       "    <tr>\n",
       "      <th>1</th>\n",
       "      <td>005EIE0ijz5bxAowmKojAhL</td>\n",
       "      <td>1</td>\n",
       "    </tr>\n",
       "    <tr>\n",
       "      <th>2</th>\n",
       "      <td>00ED0ZIuoZgjWSO1wRDPrnn</td>\n",
       "      <td>1</td>\n",
       "    </tr>\n",
       "    <tr>\n",
       "      <th>3</th>\n",
       "      <td>00L7cZvmpovvGq5xJp9Nbu7</td>\n",
       "      <td>2</td>\n",
       "    </tr>\n",
       "    <tr>\n",
       "      <th>4</th>\n",
       "      <td>00NRhdpJahq0FCzfkqXciMd</td>\n",
       "      <td>1</td>\n",
       "    </tr>\n",
       "    <tr>\n",
       "      <th>...</th>\n",
       "      <td>...</td>\n",
       "      <td>...</td>\n",
       "    </tr>\n",
       "    <tr>\n",
       "      <th>39995</th>\n",
       "      <td>zzYwTQRXoyVPYTr7Tow1cTy</td>\n",
       "      <td>0</td>\n",
       "    </tr>\n",
       "    <tr>\n",
       "      <th>39996</th>\n",
       "      <td>zzZ5dxxcx32jz9T2uQKBC9C</td>\n",
       "      <td>0</td>\n",
       "    </tr>\n",
       "    <tr>\n",
       "      <th>39997</th>\n",
       "      <td>zzcO6ncQm9Na44BdNCClZqH</td>\n",
       "      <td>0</td>\n",
       "    </tr>\n",
       "    <tr>\n",
       "      <th>39998</th>\n",
       "      <td>zzq0Bxisrt7oOFPJdwvFJhn</td>\n",
       "      <td>0</td>\n",
       "    </tr>\n",
       "    <tr>\n",
       "      <th>39999</th>\n",
       "      <td>zzyOXTudOs5UTuMPPJbIcP5</td>\n",
       "      <td>0</td>\n",
       "    </tr>\n",
       "  </tbody>\n",
       "</table>\n",
       "<p>40000 rows × 2 columns</p>\n",
       "</div>"
      ],
      "text/plain": [
       "                     COOKIE_ID  CONVERTED\n",
       "0      002CzVgO1LMjZSTEiNhizge          1\n",
       "1      005EIE0ijz5bxAowmKojAhL          1\n",
       "2      00ED0ZIuoZgjWSO1wRDPrnn          1\n",
       "3      00L7cZvmpovvGq5xJp9Nbu7          2\n",
       "4      00NRhdpJahq0FCzfkqXciMd          1\n",
       "...                        ...        ...\n",
       "39995  zzYwTQRXoyVPYTr7Tow1cTy          0\n",
       "39996  zzZ5dxxcx32jz9T2uQKBC9C          0\n",
       "39997  zzcO6ncQm9Na44BdNCClZqH          0\n",
       "39998  zzq0Bxisrt7oOFPJdwvFJhn          0\n",
       "39999  zzyOXTudOs5UTuMPPJbIcP5          0\n",
       "\n",
       "[40000 rows x 2 columns]"
      ]
     },
     "execution_count": 5,
     "metadata": {},
     "output_type": "execute_result"
    }
   ],
   "source": [
    "df.groupby('COOKIE_ID')['CONVERTED'].sum().to_frame().reset_index()"
   ]
  },
  {
   "cell_type": "code",
   "execution_count": 6,
   "id": "fb5ab536",
   "metadata": {},
   "outputs": [
    {
     "data": {
      "text/html": [
       "<div>\n",
       "<style scoped>\n",
       "    .dataframe tbody tr th:only-of-type {\n",
       "        vertical-align: middle;\n",
       "    }\n",
       "\n",
       "    .dataframe tbody tr th {\n",
       "        vertical-align: top;\n",
       "    }\n",
       "\n",
       "    .dataframe thead th {\n",
       "        text-align: right;\n",
       "    }\n",
       "</style>\n",
       "<table border=\"1\" class=\"dataframe\">\n",
       "  <thead>\n",
       "    <tr style=\"text-align: right;\">\n",
       "      <th></th>\n",
       "      <th>COOKIE_ID</th>\n",
       "      <th>CONVERTED</th>\n",
       "      <th>ENGAGEMENT_SCORE</th>\n",
       "      <th>TREATMENT_OR_CONTROL</th>\n",
       "    </tr>\n",
       "  </thead>\n",
       "  <tbody>\n",
       "    <tr>\n",
       "      <th>29113</th>\n",
       "      <td>00L7cZvmpovvGq5xJp9Nbu7</td>\n",
       "      <td>1</td>\n",
       "      <td>1.632797</td>\n",
       "      <td>CONTROL</td>\n",
       "    </tr>\n",
       "    <tr>\n",
       "      <th>37077</th>\n",
       "      <td>00L7cZvmpovvGq5xJp9Nbu7</td>\n",
       "      <td>1</td>\n",
       "      <td>1.632797</td>\n",
       "      <td>CONTROL</td>\n",
       "    </tr>\n",
       "  </tbody>\n",
       "</table>\n",
       "</div>"
      ],
      "text/plain": [
       "                     COOKIE_ID  CONVERTED  ENGAGEMENT_SCORE  \\\n",
       "29113  00L7cZvmpovvGq5xJp9Nbu7          1          1.632797   \n",
       "37077  00L7cZvmpovvGq5xJp9Nbu7          1          1.632797   \n",
       "\n",
       "      TREATMENT_OR_CONTROL  \n",
       "29113              CONTROL  \n",
       "37077              CONTROL  "
      ]
     },
     "execution_count": 6,
     "metadata": {},
     "output_type": "execute_result"
    }
   ],
   "source": [
    "df[df.COOKIE_ID == '00L7cZvmpovvGq5xJp9Nbu7']"
   ]
  },
  {
   "cell_type": "markdown",
   "id": "7d92eea0",
   "metadata": {},
   "source": [
    "We need to handle this issue of duplicate values"
   ]
  },
  {
   "cell_type": "code",
   "execution_count": 7,
   "id": "aeff7f2b",
   "metadata": {},
   "outputs": [
    {
     "data": {
      "text/html": [
       "<div>\n",
       "<style scoped>\n",
       "    .dataframe tbody tr th:only-of-type {\n",
       "        vertical-align: middle;\n",
       "    }\n",
       "\n",
       "    .dataframe tbody tr th {\n",
       "        vertical-align: top;\n",
       "    }\n",
       "\n",
       "    .dataframe thead th {\n",
       "        text-align: right;\n",
       "    }\n",
       "</style>\n",
       "<table border=\"1\" class=\"dataframe\">\n",
       "  <thead>\n",
       "    <tr style=\"text-align: right;\">\n",
       "      <th></th>\n",
       "      <th>COOKIE_ID</th>\n",
       "      <th>CONVERTED</th>\n",
       "      <th>ENGAGEMENT_SCORE</th>\n",
       "      <th>TREATMENT_OR_CONTROL</th>\n",
       "    </tr>\n",
       "  </thead>\n",
       "  <tbody>\n",
       "    <tr>\n",
       "      <th>0</th>\n",
       "      <td>t9M8RVgrnNsFt7eSfH8pp7f</td>\n",
       "      <td>0</td>\n",
       "      <td>1.389313</td>\n",
       "      <td>CONTROL</td>\n",
       "    </tr>\n",
       "    <tr>\n",
       "      <th>1</th>\n",
       "      <td>kcNzZvLksRGynu7JWpXOWit</td>\n",
       "      <td>0</td>\n",
       "      <td>1.810723</td>\n",
       "      <td>TREATMENT</td>\n",
       "    </tr>\n",
       "    <tr>\n",
       "      <th>2</th>\n",
       "      <td>ad0ABkl1OzRHf08klFDFHKd</td>\n",
       "      <td>0</td>\n",
       "      <td>2.069344</td>\n",
       "      <td>TREATMENT</td>\n",
       "    </tr>\n",
       "    <tr>\n",
       "      <th>4</th>\n",
       "      <td>ecYeNU1AQVTaXrQMp25Fb85</td>\n",
       "      <td>0</td>\n",
       "      <td>2.043011</td>\n",
       "      <td>TREATMENT</td>\n",
       "    </tr>\n",
       "    <tr>\n",
       "      <th>5</th>\n",
       "      <td>U5x1Qi5N0IhpDRCCnYXmMYV</td>\n",
       "      <td>0</td>\n",
       "      <td>1.649439</td>\n",
       "      <td>TREATMENT</td>\n",
       "    </tr>\n",
       "  </tbody>\n",
       "</table>\n",
       "</div>"
      ],
      "text/plain": [
       "                 COOKIE_ID  CONVERTED  ENGAGEMENT_SCORE TREATMENT_OR_CONTROL\n",
       "0  t9M8RVgrnNsFt7eSfH8pp7f          0          1.389313              CONTROL\n",
       "1  kcNzZvLksRGynu7JWpXOWit          0          1.810723            TREATMENT\n",
       "2  ad0ABkl1OzRHf08klFDFHKd          0          2.069344            TREATMENT\n",
       "4  ecYeNU1AQVTaXrQMp25Fb85          0          2.043011            TREATMENT\n",
       "5  U5x1Qi5N0IhpDRCCnYXmMYV          0          1.649439            TREATMENT"
      ]
     },
     "execution_count": 7,
     "metadata": {},
     "output_type": "execute_result"
    }
   ],
   "source": [
    "df_pre = df.groupby('COOKIE_ID')['CONVERTED'].sum().to_frame().reset_index()\n",
    "a= df_pre[df_pre['CONVERTED'] > 1]['COOKIE_ID'].index\n",
    "df_final = df[~df.index.isin(df_pre[df_pre['CONVERTED'] > 1]['COOKIE_ID'].index)]\n",
    "df_final.head()"
   ]
  },
  {
   "cell_type": "markdown",
   "id": "536ca6af",
   "metadata": {},
   "source": [
    "This dataframe has no duplicates and the cookie is either exposed to treatment or control group."
   ]
  },
  {
   "cell_type": "code",
   "execution_count": 8,
   "id": "af9b2d26",
   "metadata": {},
   "outputs": [
    {
     "data": {
      "text/html": [
       "<div>\n",
       "<style scoped>\n",
       "    .dataframe tbody tr th:only-of-type {\n",
       "        vertical-align: middle;\n",
       "    }\n",
       "\n",
       "    .dataframe tbody tr th {\n",
       "        vertical-align: top;\n",
       "    }\n",
       "\n",
       "    .dataframe thead th {\n",
       "        text-align: right;\n",
       "    }\n",
       "</style>\n",
       "<table border=\"1\" class=\"dataframe\">\n",
       "  <thead>\n",
       "    <tr style=\"text-align: right;\">\n",
       "      <th>CONVERTED</th>\n",
       "      <th>0</th>\n",
       "      <th>1</th>\n",
       "    </tr>\n",
       "    <tr>\n",
       "      <th>TREATMENT_OR_CONTROL</th>\n",
       "      <th></th>\n",
       "      <th></th>\n",
       "    </tr>\n",
       "  </thead>\n",
       "  <tbody>\n",
       "    <tr>\n",
       "      <th>CONTROL</th>\n",
       "      <td>18706</td>\n",
       "      <td>1431</td>\n",
       "    </tr>\n",
       "    <tr>\n",
       "      <th>TREATMENT</th>\n",
       "      <td>18152</td>\n",
       "      <td>1711</td>\n",
       "    </tr>\n",
       "  </tbody>\n",
       "</table>\n",
       "</div>"
      ],
      "text/plain": [
       "CONVERTED                 0     1\n",
       "TREATMENT_OR_CONTROL             \n",
       "CONTROL               18706  1431\n",
       "TREATMENT             18152  1711"
      ]
     },
     "execution_count": 8,
     "metadata": {},
     "output_type": "execute_result"
    }
   ],
   "source": [
    "# pivot calculation ( 1 - cookie clicked on the click to chat button , 0 -\n",
    "# did not click on the click to chat button)\n",
    "pd.crosstab(df_final['TREATMENT_OR_CONTROL'] , df_final['CONVERTED'])"
   ]
  },
  {
   "cell_type": "markdown",
   "id": "86d2b58c",
   "metadata": {},
   "source": [
    "### Sample size calculation"
   ]
  },
  {
   "cell_type": "code",
   "execution_count": 9,
   "id": "fd2e484d",
   "metadata": {},
   "outputs": [
    {
     "data": {
      "text/plain": [
       "7734"
      ]
     },
     "execution_count": 9,
     "metadata": {},
     "output_type": "execute_result"
    }
   ],
   "source": [
    "import math\n",
    "\n",
    "def ABTest_sample_size(p1,mde,alpha,beta, n_side):\n",
    "    \"\"\"\n",
    "    Parameters:\n",
    "    p1 :\"Baseline conversion Rate\"\n",
    "    mde : \"Minimum detectable Effect\"\n",
    "    alpha : significance level\n",
    "    beta : \"statistical power\"\n",
    "    n_side:\"two tailed t-test or 1 tail t-test\"\n",
    "    \"\"\"\n",
    "    p2=p1+mde \n",
    "    z_crit=stats.norm.ppf(alpha/n_side)\n",
    "    z_crit2=stats.norm.ppf(1-beta)\n",
    "    n_sample=((z_crit*(math.sqrt(2*p1*(1-p1))))+(z_crit2*(math.sqrt((p1*(1-p1))+(p2*(1-p2))))))**2/mde**2\n",
    "    return math.ceil(n_sample)\n",
    "\n",
    "#calcualate the sample size using the above function\n",
    "\n",
    "\"\"\"\n",
    "our base line conversion rate as mentioned in the business case is 5.05%\n",
    "the mde or minimum detectable effect is 1%\n",
    "\"\"\"\n",
    "n_required = ABTest_sample_size(0.0505,0.01,0.05,0.80,2)\n",
    "n_required"
   ]
  },
  {
   "cell_type": "markdown",
   "id": "67671b74",
   "metadata": {},
   "source": [
    "We'd need at least 7734 observations for each group."
   ]
  },
  {
   "cell_type": "markdown",
   "id": "1b2bc130",
   "metadata": {},
   "source": [
    "### Sampling "
   ]
  },
  {
   "cell_type": "code",
   "execution_count": 10,
   "id": "dfe59546",
   "metadata": {},
   "outputs": [
    {
     "name": "stdout",
     "output_type": "stream",
     "text": [
      "<class 'pandas.core.frame.DataFrame'>\n",
      "RangeIndex: 15468 entries, 0 to 15467\n",
      "Data columns (total 4 columns):\n",
      " #   Column                Non-Null Count  Dtype  \n",
      "---  ------                --------------  -----  \n",
      " 0   COOKIE_ID             15468 non-null  object \n",
      " 1   CONVERTED             15468 non-null  int64  \n",
      " 2   ENGAGEMENT_SCORE      15468 non-null  float64\n",
      " 3   TREATMENT_OR_CONTROL  15468 non-null  object \n",
      "dtypes: float64(1), int64(1), object(2)\n",
      "memory usage: 483.5+ KB\n"
     ]
    }
   ],
   "source": [
    "from pandas.core.common import random_state\n",
    "\n",
    "controlGroup_sample = df_final[df_final['TREATMENT_OR_CONTROL']=='CONTROL'].sample(n=n_required,random_state=242)\n",
    "treatmentGroup_sample = df_final[df_final['TREATMENT_OR_CONTROL']=='TREATMENT'].sample(n=n_required,random_state=242)\n",
    "ab_testfinal = pd.concat([controlGroup_sample , treatmentGroup_sample],axis=0)\n",
    "ab_testfinal.reset_index(drop=True,inplace=True)\n",
    "\n",
    "ab_testfinal.info()"
   ]
  },
  {
   "cell_type": "code",
   "execution_count": 11,
   "id": "b07078e1",
   "metadata": {},
   "outputs": [
    {
     "data": {
      "text/html": [
       "<div>\n",
       "<style scoped>\n",
       "    .dataframe tbody tr th:only-of-type {\n",
       "        vertical-align: middle;\n",
       "    }\n",
       "\n",
       "    .dataframe tbody tr th {\n",
       "        vertical-align: top;\n",
       "    }\n",
       "\n",
       "    .dataframe thead th {\n",
       "        text-align: right;\n",
       "    }\n",
       "</style>\n",
       "<table border=\"1\" class=\"dataframe\">\n",
       "  <thead>\n",
       "    <tr style=\"text-align: right;\">\n",
       "      <th>CONVERTED</th>\n",
       "      <th>0</th>\n",
       "      <th>1</th>\n",
       "    </tr>\n",
       "    <tr>\n",
       "      <th>TREATMENT_OR_CONTROL</th>\n",
       "      <th></th>\n",
       "      <th></th>\n",
       "    </tr>\n",
       "  </thead>\n",
       "  <tbody>\n",
       "    <tr>\n",
       "      <th>CONTROL</th>\n",
       "      <td>7167</td>\n",
       "      <td>567</td>\n",
       "    </tr>\n",
       "    <tr>\n",
       "      <th>TREATMENT</th>\n",
       "      <td>7089</td>\n",
       "      <td>645</td>\n",
       "    </tr>\n",
       "  </tbody>\n",
       "</table>\n",
       "</div>"
      ],
      "text/plain": [
       "CONVERTED                0    1\n",
       "TREATMENT_OR_CONTROL           \n",
       "CONTROL               7167  567\n",
       "TREATMENT             7089  645"
      ]
     },
     "execution_count": 11,
     "metadata": {},
     "output_type": "execute_result"
    }
   ],
   "source": [
    "pd.crosstab(ab_testfinal['TREATMENT_OR_CONTROL'],ab_testfinal['CONVERTED'])"
   ]
  },
  {
   "cell_type": "markdown",
   "id": "f8110bef",
   "metadata": {},
   "source": [
    "For the control group, we see the conversion rate at 7.3% [567/(567+7167)]while for the treatment group we see the conversion at 8.3%[645/(645+7089)]. Our treatment group performs better than the control group but the big question here is to analyze whether their results are statistically significant or not."
   ]
  },
  {
   "cell_type": "markdown",
   "id": "faddbf37",
   "metadata": {},
   "source": [
    "### Analyzing the results"
   ]
  },
  {
   "cell_type": "code",
   "execution_count": 12,
   "id": "f6d12866",
   "metadata": {},
   "outputs": [
    {
     "name": "stdout",
     "output_type": "stream",
     "text": [
      "p-value: 0.020\n",
      "ci 95% for control group: [0.068 , 0.079]\n",
      "ci 95% for treatment group: [0.077 , 0.090]\n"
     ]
    }
   ],
   "source": [
    "from statsmodels.stats.proportion import proportions_ztest, proportion_confint\n",
    "controlGroup_results = ab_testfinal[ab_testfinal['TREATMENT_OR_CONTROL'] == 'CONTROL']['CONVERTED']\n",
    "treatmentGroup_results = ab_testfinal[ab_testfinal['TREATMENT_OR_CONTROL'] == 'TREATMENT']['CONVERTED']\n",
    "\n",
    "\n",
    "n_control = controlGroup_results.count()\n",
    "n_treatment = treatmentGroup_results.count()\n",
    "successes = [controlGroup_results.sum(), treatmentGroup_results.sum()]\n",
    "nobs = [n_control, n_treatment]\n",
    "\n",
    "z_statistic, pval = proportions_ztest(successes, nobs=nobs)\n",
    "\n",
    "# function to calculate the confidence interval and evaluate the practical significance\n",
    "def ci_calculator(x,N,alpha,n_side):\n",
    "    \"\"\"\n",
    "    x= success cases\n",
    "    N = total sample size\n",
    "    alpha = significance level\n",
    "    n_side = one tail or two tailed test\n",
    "    \"\"\"\n",
    "\n",
    "    _p = x/N\n",
    "    if ((_p*N < 5) or ((1-_p)*N < 5)):\n",
    "        raise ValueError('the distribution cannot be assumed as normal')\n",
    "    else :\n",
    "        m = stats.norm.ppf(alpha/n_side) * math.sqrt( (_p * (1-_p))/N)\n",
    "    return f'[{_p+m:.3f} , {_p-m:.3f}]'\n",
    "\n",
    "control_ci = ci_calculator(567,7734,0.05,2) # 567 conversions and sample size 7734\n",
    "treatment_ci = ci_calculator(645,7734,0.05,2) # 645 conversions and sample size 7734\n",
    "\n",
    "print(f'p-value: {pval:.3f}')\n",
    "print(f'ci 95% for control group: {control_ci}')\n",
    "print(f'ci 95% for treatment group: {treatment_ci}')"
   ]
  },
  {
   "cell_type": "markdown",
   "id": "3e433464",
   "metadata": {},
   "source": [
    "### Conclusion"
   ]
  },
  {
   "cell_type": "markdown",
   "id": "6258c1e6",
   "metadata": {},
   "source": [
    "The p-value is less than 0.05 (p <0.05) and hence we will reject the null hypothesis and hence we have a statistical significance. Also, the lower bound of the confidence interval for our treatment group is more than the required change (0.0505+0.01=0.0605) and hence we also conclude that there is a practical significance."
   ]
  },
  {
   "cell_type": "markdown",
   "id": "f129518d",
   "metadata": {},
   "source": [
    "**The change that the product manager thought definitely appears to have a positive impact as we observe both statistical and practical significance in the test results.This is a recommendation to launch the change in production!**"
   ]
  }
 ],
 "metadata": {
  "kernelspec": {
   "display_name": "Python 3 (ipykernel)",
   "language": "python",
   "name": "python3"
  },
  "language_info": {
   "codemirror_mode": {
    "name": "ipython",
    "version": 3
   },
   "file_extension": ".py",
   "mimetype": "text/x-python",
   "name": "python",
   "nbconvert_exporter": "python",
   "pygments_lexer": "ipython3",
   "version": "3.9.12"
  }
 },
 "nbformat": 4,
 "nbformat_minor": 5
}
